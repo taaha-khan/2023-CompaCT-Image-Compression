{
 "cells": [
  {
   "cell_type": "code",
   "execution_count": 2,
   "metadata": {},
   "outputs": [],
   "source": [
    "import pandas as pd\n",
    "import numpy as np\n",
    "import seaborn as sns\n",
    "import matplotlib.pyplot as plt\n",
    "from collections import defaultdict"
   ]
  },
  {
   "cell_type": "code",
   "execution_count": 3,
   "metadata": {},
   "outputs": [
    {
     "data": {
      "text/html": [
       "<div>\n",
       "<style scoped>\n",
       "    .dataframe tbody tr th:only-of-type {\n",
       "        vertical-align: middle;\n",
       "    }\n",
       "\n",
       "    .dataframe tbody tr th {\n",
       "        vertical-align: top;\n",
       "    }\n",
       "\n",
       "    .dataframe thead th {\n",
       "        text-align: right;\n",
       "    }\n",
       "</style>\n",
       "<table border=\"1\" class=\"dataframe\">\n",
       "  <thead>\n",
       "    <tr style=\"text-align: right;\">\n",
       "      <th></th>\n",
       "      <th>File</th>\n",
       "      <th>Raw</th>\n",
       "      <th>ZIP</th>\n",
       "      <th>PNG</th>\n",
       "      <th>RLE</th>\n",
       "      <th>JP2</th>\n",
       "      <th>CCT</th>\n",
       "    </tr>\n",
       "  </thead>\n",
       "  <tbody>\n",
       "    <tr>\n",
       "      <th>0</th>\n",
       "      <td>(0003)-1-001.dcm</td>\n",
       "      <td>524288</td>\n",
       "      <td>295851</td>\n",
       "      <td>263782</td>\n",
       "      <td>304698</td>\n",
       "      <td>307826</td>\n",
       "      <td>224170</td>\n",
       "    </tr>\n",
       "    <tr>\n",
       "      <th>1</th>\n",
       "      <td>(0004)-1-002.dcm</td>\n",
       "      <td>524288</td>\n",
       "      <td>297801</td>\n",
       "      <td>265472</td>\n",
       "      <td>304374</td>\n",
       "      <td>309471</td>\n",
       "      <td>224967</td>\n",
       "    </tr>\n",
       "    <tr>\n",
       "      <th>2</th>\n",
       "      <td>(0005)-1-003.dcm</td>\n",
       "      <td>524288</td>\n",
       "      <td>300580</td>\n",
       "      <td>267121</td>\n",
       "      <td>304832</td>\n",
       "      <td>311475</td>\n",
       "      <td>226024</td>\n",
       "    </tr>\n",
       "    <tr>\n",
       "      <th>3</th>\n",
       "      <td>(0006)-1-004.dcm</td>\n",
       "      <td>524288</td>\n",
       "      <td>301763</td>\n",
       "      <td>268408</td>\n",
       "      <td>303902</td>\n",
       "      <td>312502</td>\n",
       "      <td>226337</td>\n",
       "    </tr>\n",
       "    <tr>\n",
       "      <th>4</th>\n",
       "      <td>(0007)-1-005.dcm</td>\n",
       "      <td>524288</td>\n",
       "      <td>301356</td>\n",
       "      <td>268897</td>\n",
       "      <td>303304</td>\n",
       "      <td>312964</td>\n",
       "      <td>226024</td>\n",
       "    </tr>\n",
       "  </tbody>\n",
       "</table>\n",
       "</div>"
      ],
      "text/plain": [
       "               File     Raw     ZIP     PNG     RLE     JP2     CCT\n",
       "0  (0003)-1-001.dcm  524288  295851  263782  304698  307826  224170\n",
       "1  (0004)-1-002.dcm  524288  297801  265472  304374  309471  224967\n",
       "2  (0005)-1-003.dcm  524288  300580  267121  304832  311475  226024\n",
       "3  (0006)-1-004.dcm  524288  301763  268408  303902  312502  226337\n",
       "4  (0007)-1-005.dcm  524288  301356  268897  303304  312964  226024"
      ]
     },
     "execution_count": 3,
     "metadata": {},
     "output_type": "execute_result"
    }
   ],
   "source": [
    "results_file = '../results/encoder-comparisons.csv'\n",
    "df = pd.read_csv(results_file)\n",
    "\n",
    "# order = ['File', 'Raw', 'RLE', 'PNG', 'CCT', 'ZIP', 'JP2']\n",
    "# df = df[order]\n",
    "\n",
    "df.head()"
   ]
  },
  {
   "cell_type": "code",
   "execution_count": 4,
   "metadata": {},
   "outputs": [],
   "source": [
    "colors = ['grey', 'grey', 'grey', 'grey', 'grey', 'green']\n",
    "# colors = ['grey', 'grey', 'grey', 'green', 'grey', 'gray']"
   ]
  },
  {
   "cell_type": "code",
   "execution_count": 6,
   "metadata": {},
   "outputs": [
    {
     "data": {
      "image/png": "[encoded data removed]",
      "text/plain": [
       "<Figure size 432x288 with 1 Axes>"
      ]
     },
     "metadata": {
      "needs_background": "light"
     },
     "output_type": "display_data"
    }
   ],
   "source": [
    "\n",
    "melt = pd.melt(df.drop('File', axis = 1))\n",
    "\n",
    "# plt.figure(figsize = (8, 6), edgecolor = 'black')\n",
    "# sns.set_context(\"paper\", rc={\"font.size\":15,\"axes.titlesize\":15,\"axes.labelsize\":20})  \n",
    "sns.boxplot(x = 'variable', y = 'value', data = melt, showfliers = True, palette = colors)\n",
    "\n",
    "plt.title('Compressed File Size Distributions for Algorithms')\n",
    "plt.xlabel('Algorithm')\n",
    "plt.ylabel('File Size (bytes)')\n",
    "plt.savefig('../results/figures/distribution.png', dpi = 300, bbox_inches = 'tight')\n"
   ]
  },
  {
   "cell_type": "code",
   "execution_count": 7,
   "metadata": {},
   "outputs": [],
   "source": [
    "\n",
    "raw = df['Raw']\n",
    "cols = df.columns[1:]\n",
    "\n",
    "ratio_dict = {}\n",
    "saved_dict = {}\n",
    "total_dict = {}\n",
    "\n",
    "for col in cols:\n",
    "\n",
    "\tratio = raw.sum() / df[col].sum()\n",
    "\tsaved = 100 * (1 - df[col].sum() / raw.sum())\n",
    "\ttotal = df[col].sum() / 1_000_000_000\n",
    "\t\n",
    "\tratio_dict[col] = ratio\n",
    "\tsaved_dict[col] = saved\n",
    "\ttotal_dict[col] = total\n",
    "\n"
   ]
  },
  {
   "cell_type": "code",
   "execution_count": 8,
   "metadata": {},
   "outputs": [
    {
     "data": {
      "text/html": [
       "<div>\n",
       "<style scoped>\n",
       "    .dataframe tbody tr th:only-of-type {\n",
       "        vertical-align: middle;\n",
       "    }\n",
       "\n",
       "    .dataframe tbody tr th {\n",
       "        vertical-align: top;\n",
       "    }\n",
       "\n",
       "    .dataframe thead th {\n",
       "        text-align: right;\n",
       "    }\n",
       "</style>\n",
       "<table border=\"1\" class=\"dataframe\">\n",
       "  <thead>\n",
       "    <tr style=\"text-align: right;\">\n",
       "      <th></th>\n",
       "      <th>A</th>\n",
       "      <th>B</th>\n",
       "    </tr>\n",
       "  </thead>\n",
       "  <tbody>\n",
       "    <tr>\n",
       "      <th>0</th>\n",
       "      <td>Raw</td>\n",
       "      <td>1.000000</td>\n",
       "    </tr>\n",
       "    <tr>\n",
       "      <th>1</th>\n",
       "      <td>ZIP</td>\n",
       "      <td>1.805547</td>\n",
       "    </tr>\n",
       "    <tr>\n",
       "      <th>2</th>\n",
       "      <td>PNG</td>\n",
       "      <td>2.059297</td>\n",
       "    </tr>\n",
       "    <tr>\n",
       "      <th>3</th>\n",
       "      <td>RLE</td>\n",
       "      <td>1.792206</td>\n",
       "    </tr>\n",
       "    <tr>\n",
       "      <th>4</th>\n",
       "      <td>JP2</td>\n",
       "      <td>1.763210</td>\n",
       "    </tr>\n",
       "    <tr>\n",
       "      <th>5</th>\n",
       "      <td>CCT</td>\n",
       "      <td>2.421973</td>\n",
       "    </tr>\n",
       "  </tbody>\n",
       "</table>\n",
       "</div>"
      ],
      "text/plain": [
       "     A         B\n",
       "0  Raw  1.000000\n",
       "1  ZIP  1.805547\n",
       "2  PNG  2.059297\n",
       "3  RLE  1.792206\n",
       "4  JP2  1.763210\n",
       "5  CCT  2.421973"
      ]
     },
     "execution_count": 8,
     "metadata": {},
     "output_type": "execute_result"
    }
   ],
   "source": [
    "ratio = pd.DataFrame({\"A\": list(ratio_dict.keys()), \"B\": list(ratio_dict.values())})\n",
    "saved = pd.DataFrame({\"A\": list(saved_dict.keys()), \"B\": list(saved_dict.values())})\n",
    "total = pd.DataFrame({\"A\": list(total_dict.keys()), \"B\": list(total_dict.values())})\n",
    "\n",
    "ratio"
   ]
  },
  {
   "cell_type": "code",
   "execution_count": 9,
   "metadata": {},
   "outputs": [
    {
     "data": {
      "image/png": "[encoded data removed]",
      "text/plain": [
       "<Figure size 432x288 with 1 Axes>"
      ]
     },
     "metadata": {
      "needs_background": "light"
     },
     "output_type": "display_data"
    }
   ],
   "source": [
    "# plt.figure(figsize = (12, 8), edgecolor = 'black')\n",
    "sns.barplot(x = 'A', y = 'B', data = ratio, palette = colors, linewidth = 2.5)\n",
    "plt.title('Mean Compression Ratio for Algorithms')\n",
    "plt.xlabel('Algorithm')\n",
    "plt.ylabel('Mean Compression Ratio (x)')\n",
    "plt.savefig('../results/figures/ratio.png', dpi = 300)"
   ]
  },
  {
   "cell_type": "code",
   "execution_count": 10,
   "metadata": {},
   "outputs": [
    {
     "data": {
      "image/png": "[encoded data removed]",
      "text/plain": [
       "<Figure size 432x288 with 1 Axes>"
      ]
     },
     "metadata": {
      "needs_background": "light"
     },
     "output_type": "display_data"
    }
   ],
   "source": [
    "sns.barplot(x = 'A', y = 'B', data = saved, palette = colors)\n",
    "plt.title('Compressed Space Saved for Algorithms')\n",
    "plt.xlabel('Algorithm')\n",
    "plt.ylabel('Space Saved (%)')\n",
    "plt.savefig('../results/figures/space.png', dpi = 300)"
   ]
  },
  {
   "cell_type": "code",
   "execution_count": 11,
   "metadata": {},
   "outputs": [
    {
     "data": {
      "image/png": "[encoded data removed]",
      "text/plain": [
       "<Figure size 432x288 with 1 Axes>"
      ]
     },
     "metadata": {
      "needs_background": "light"
     },
     "output_type": "display_data"
    }
   ],
   "source": [
    "sns.barplot(x = 'A', y = 'B', data = total, palette = colors)\n",
    "plt.title('Total Compressed Dataset Size for Algorithms')\n",
    "plt.xlabel('Algorithm')\n",
    "plt.ylabel('Total Size (GB)')\n",
    "plt.savefig('../results/figures/totalsize.png', dpi = 300)"
   ]
  },
  {
   "cell_type": "code",
   "execution_count": 12,
   "metadata": {},
   "outputs": [],
   "source": [
    "def percent_increase(start, final):\n",
    "\treturn (final - start) / abs(start)"
   ]
  },
  {
   "cell_type": "code",
   "execution_count": 13,
   "metadata": {},
   "outputs": [
    {
     "name": "stdout",
     "output_type": "stream",
     "text": [
      "(ratio) Raw to CCT increase: 142.197%\n",
      "(ratio) ZIP to CCT increase: 34.141%\n",
      "(ratio) PNG to CCT increase: 17.612%\n",
      "(ratio) RLE to CCT increase: 35.139%\n",
      "(ratio) JP2 to CCT increase: 37.362%\n"
     ]
    }
   ],
   "source": [
    "ratios = dict(zip(ratio['A'], ratio['B']))\n",
    "\n",
    "for col in cols:\n",
    "\tif col == 'CCT':\n",
    "\t\tcontinue\n",
    "\tinc = percent_increase(ratios[col], ratios['CCT']) * 100\n",
    "\tprint(f'(ratio) {col} to CCT increase: {inc:.3f}%')\n"
   ]
  },
  {
   "cell_type": "code",
   "execution_count": null,
   "metadata": {},
   "outputs": [],
   "source": []
  }
 ],
 "metadata": {
  "kernelspec": {
   "display_name": "Python 3",
   "language": "python",
   "name": "python3"
  },
  "language_info": {
   "codemirror_mode": {
    "name": "ipython",
    "version": 3
   },
   "file_extension": ".py",
   "mimetype": "text/x-python",
   "name": "python",
   "nbconvert_exporter": "python",
   "pygments_lexer": "ipython3",
   "version": "3.8.10"
  },
  "orig_nbformat": 4,
  "vscode": {
   "interpreter": {
    "hash": "48a7186a6a5031d68f73780abec3efce5373070c605a4194084a9bc862d97e81"
   }
  }
 },
 "nbformat": 4,
 "nbformat_minor": 2
}
